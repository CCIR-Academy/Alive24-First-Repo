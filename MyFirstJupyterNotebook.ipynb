{
  "nbformat": 4,
  "nbformat_minor": 0,
  "metadata": {
    "colab": {
      "name": "Copy of Section_1_Task3.ipynb",
      "provenance": [],
      "collapsed_sections": [],
      "authorship_tag": "ABX9TyOkEtV/VhPMPoInVJzFLsmC",
      "include_colab_link": true
    },
    "kernelspec": {
      "name": "python3",
      "display_name": "Python 3"
    },
    "language_info": {
      "name": "python"
    }
  },
  "cells": [
    {
      "cell_type": "markdown",
      "metadata": {
        "id": "view-in-github",
        "colab_type": "text"
      },
      "source": [
        "<a href=\"https://colab.research.google.com/github/CCIR-Academy/Alive24-First-Repo/blob/main/MyFirstJupyterNotebook.ipynb\" target=\"_parent\"><img src=\"https://colab.research.google.com/assets/colab-badge.svg\" alt=\"Open In Colab\"/></a>"
      ]
    },
    {
      "cell_type": "code",
      "metadata": {
        "id": "H8Y_GGXdobkh"
      },
      "source": [
        "# Challenge 1: Obtain a new variable named \"targetA\" which equals 9 (as an integer) by using data in the provided list and basic arithmatic operaters. \n",
        "numList = [2,7,11,15]\n",
        "targetA = 0\n",
        "### Write your code below\n",
        "\n",
        " \n",
        "\n",
        "\n",
        "\n",
        "\n",
        "\n",
        "### Write your code above\n",
        "print(\"My target equals %s, so I got it %s!\" % (targetA, (\"right\" if targetA == 9 else \"wrong\")))"
      ],
      "execution_count": null,
      "outputs": []
    },
    {
      "cell_type": "code",
      "metadata": {
        "id": "zD7spkSXohc6"
      },
      "source": [
        "# Challenge 2: Obtain a reversed list for numList\n",
        "numList = [2,7,11,15]\n",
        "targetList = []\n",
        "### Write your code below\n",
        "\n",
        " \n",
        "\n",
        "\n",
        "\n",
        "\n",
        "\n",
        "### Write your code above\n",
        "print(\"My target List is %s\" % targetList)\n",
        "\n"
      ],
      "execution_count": null,
      "outputs": []
    },
    {
      "cell_type": "code",
      "metadata": {
        "id": "I8JxTZanojvq"
      },
      "source": [
        "# Challenge 3: Get the sum of the elements in the list\n",
        "numList = [2,7,11,15]\n",
        "numListSum = 0\n",
        "### Write your code below\n",
        "\n",
        " \n",
        "\n",
        "\n",
        "\n",
        "\n",
        "\n",
        "### Write your code above\n",
        "print(\"My sum equals %s, so I got it %s!\" % (numListSum, (\"right\" if numListSum == 35 else \"wrong\")))"
      ],
      "execution_count": null,
      "outputs": []
    },
    {
      "cell_type": "code",
      "metadata": {
        "id": "DPazxOMqonTS"
      },
      "source": [
        "# Challenge 4: Sort the list from small to big!\n",
        "numList = [7,2,15,11]\n",
        "targetList = []\n",
        "### Write your code below\n",
        "\n",
        " \n",
        "\n",
        "\n",
        "\n",
        "\n",
        "\n",
        "### Write your code above\n",
        "print(\"My target List is %s\" % targetList)\n"
      ],
      "execution_count": null,
      "outputs": []
    }
  ]
}